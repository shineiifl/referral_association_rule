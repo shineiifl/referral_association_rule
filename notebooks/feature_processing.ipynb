{
 "cells": [
  {
   "cell_type": "code",
   "execution_count": 2,
   "id": "c72e8b42",
   "metadata": {},
   "outputs": [],
   "source": [
    "\n",
    "import pandas as pd\n",
    "import numpy as np\n",
    "import matplotlib.pyplot as plt\n",
    "import seaborn as sns\n",
    "import warnings\n",
    "\n",
    "warnings.filterwarnings('ignore')\n",
    "\n",
    "pd.set_option('display.max_columns', None)\n",
    "\n",
    "from datetime import datetime\n",
    "from datetime import date"
   ]
  },
  {
   "cell_type": "code",
   "execution_count": 3,
   "id": "9c058f7a",
   "metadata": {},
   "outputs": [],
   "source": [
    "df_model = pd.read_csv(\"../inter_data/preprocessed.csv\")\n",
    "\n",
    "df_model = df_model[[col for col in df_model.columns if \"Unnamed\" not in col]]\n",
    "\n",
    "df_model[\"target\"] = df_model[\"num_referees_trading\"]/df_model[\"refer_count\"]\n",
    "\n",
    "\n",
    "\n",
    "\n",
    "\n"
   ]
  },
  {
   "cell_type": "code",
   "execution_count": 4,
   "id": "6dd768fc",
   "metadata": {},
   "outputs": [],
   "source": [
    "def feature_engineering(df):\n",
    "   \n",
    "    # handing null values(continuos values)\n",
    "    del df[\"cm_cd\"]\n",
    "    del df[\"cm_mobile\"]\n",
    "    del df[\"activation_count\"]\n",
    "    del df[\"num_referees_trading\"]\n",
    "    del df[\"refer_count\"]\n",
    "    del df[\"num_referees_logging_in\"]\n",
    "    df[\"months_since_last_login\"] = df[\"months_since_last_login\"].fillna(df[\"months_since_last_login\"].mean())\n",
    "    df[\"months_since_last_trade\"] = df[\"months_since_last_trade\"].fillna(df[\"months_since_last_trade\"].mean())\n",
    "\n",
    "     \n",
    "    # categorical data\n",
    "    df[\"KRA YN\"] = df[\"KRA YN\"].replace({\"Y\": 1, \n",
    "                                        \"N\": 0})\n",
    "    df[\"KRA YN\"] = df[\"KRA YN\"].fillna(0)\n",
    "    \n",
    "    \n",
    "    e2channels = list(df[\"E2Channel\"].value_counts().index[:5])\n",
    "    df['E2Channel'].loc[~df['E2Channel'].isin(e2channels)] = 'others'\n",
    "    \n",
    "    income_slabs = list(df[\"IncomePA\"].value_counts().index[:5])\n",
    "    df[\"IncomePA\"] = df[\"IncomePA\"].replace({\"5_10L ??\": \"5_10L\", \n",
    "                                        \"<=1??\": \"<=1L\", \n",
    "                                        \"1_5??\": \"1_5L\", \"<= 1L\": \"<=1L\"})\n",
    "    df['IncomePA'].loc[~df['IncomePA'].isin(income_slabs)] = 'others'\n",
    "\n",
    "    df[\"IncomePA\"] = df[\"IncomePA\"].map({\"others\": 0, \"<=1L\": 1, \"1lakh\": 2, \"1_2L\": 3, \"1_5L\": 3,\"2_5L\": 3, \">5L\": 4, \"5_10L\": 4, \"10_25L\": 5, \">25:\": 6})\n",
    "    \n",
    "    df['IsKarvy'] = df['IsKarvy'].fillna(0)\n",
    "    \n",
    "    \n",
    "    df[\"IncomePA\"] = df[\"IncomePA\"].fillna(0)\n",
    "    # creating dummy for categorical data\n",
    "    dummy1 = pd.get_dummies(df[[\"E2Channel\", \"cm_occup\"]], drop_first=True)\n",
    "    df = pd.concat([df, dummy1], axis=1)\n",
    "    df = df.drop([\"E2Channel\", \"cm_occup\"], axis = 1)\n",
    "   \n",
    "   \n",
    "    # scaling numerical columns\n",
    "    from sklearn.preprocessing import StandardScaler\n",
    "\n",
    "    scaler = StandardScaler()\n",
    "    numerical_cols = [\"age\",\"months_since_last_login\",\"months_since_last_trade\", \"total_logins_one_year\", \n",
    "                      \"total_trades_one_year\", \"referees_avg_logins_in_last_year\", \"referees_avg_trades_in_last_year\"]\n",
    "    df[numerical_cols] = scaler.fit_transform(df[numerical_cols])\n",
    "\n",
    "    df[numerical_cols] = df[numerical_cols].fillna(0)\n",
    "\n",
    "    return df\n"
   ]
  },
  {
   "cell_type": "code",
   "execution_count": 5,
   "id": "f9f45b03",
   "metadata": {},
   "outputs": [],
   "source": [
    "def feature_engineering_catboost(df):\n",
    "   \n",
    "    # handing null values(continuos values)\n",
    "    del df[\"cm_cd\"]\n",
    "    del df[\"cm_mobile\"]\n",
    "    del df[\"activation_count\"]\n",
    "    del df[\"num_referees_trading\"]\n",
    "    del df[\"refer_count\"]\n",
    "    del df[\"num_referees_logging_in\"]\n",
    "    df[\"months_since_last_login\"] = df[\"months_since_last_login\"].fillna(df[\"months_since_last_login\"].mean())\n",
    "    df[\"months_since_last_trade\"] = df[\"months_since_last_trade\"].fillna(df[\"months_since_last_trade\"].mean())\n",
    "\n",
    "     \n",
    "    \n",
    "    \n",
    "    \n",
    "    \n",
    "   \n",
    "    # scaling numerical columns\n",
    "    from sklearn.preprocessing import StandardScaler\n",
    "\n",
    "    numerical_cols = [\"age\",\"months_since_last_login\",\"months_since_last_trade\", \"total_logins_one_year\", \n",
    "                      \"total_trades_one_year\", \"referees_avg_logins_in_last_year\", \"referees_avg_trades_in_last_year\"]\n",
    "\n",
    "    df[numerical_cols] = df[numerical_cols].fillna(0)\n",
    "\n",
    "    return df\n"
   ]
  },
  {
   "cell_type": "code",
   "execution_count": 159,
   "id": "4da3699e",
   "metadata": {},
   "outputs": [],
   "source": [
    "df_model2 = feature_engineering_catboost(df_model.copy())\n",
    "df_model3 = feature_engineering(df_model.copy()) \n"
   ]
  },
  {
   "cell_type": "code",
   "execution_count": 160,
   "id": "353ad757",
   "metadata": {},
   "outputs": [],
   "source": [
    "df_model2.to_csv(\"../inter_data/processed_catboost.csv\")\n",
    "df_model3.to_csv(\"../inter_data/processed_encoded.csv\")"
   ]
  },
  {
   "cell_type": "code",
   "execution_count": null,
   "id": "7e341e78",
   "metadata": {},
   "outputs": [],
   "source": []
  }
 ],
 "metadata": {
  "kernelspec": {
   "display_name": "Python 3",
   "language": "python",
   "name": "python3"
  },
  "language_info": {
   "codemirror_mode": {
    "name": "ipython",
    "version": 3
   },
   "file_extension": ".py",
   "mimetype": "text/x-python",
   "name": "python",
   "nbconvert_exporter": "python",
   "pygments_lexer": "ipython3",
   "version": "3.8.8"
  }
 },
 "nbformat": 4,
 "nbformat_minor": 5
}
